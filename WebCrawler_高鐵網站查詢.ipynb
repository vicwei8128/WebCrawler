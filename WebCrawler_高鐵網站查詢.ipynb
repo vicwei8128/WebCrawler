{
 "cells": [
  {
   "cell_type": "markdown",
   "metadata": {},
   "source": [
    "# Please use POST to find that how many train from \"板橋\" to \"彰化\" at 12:00 today.\n",
    "url: https://www.thsrc.com.tw/ArticleContent/a3b630bb-1066-4352-a1ef-58c7b4e8ef7c"
   ]
  },
  {
   "cell_type": "code",
   "execution_count": 21,
   "metadata": {},
   "outputs": [
    {
     "name": "stdout",
     "output_type": "stream",
     "text": [
      "Start Station Name: \"板橋\",Train number: 0803,End Station Name: \"左營\", Departure time: 06:34, Destination time: 08:40\n",
      "Start Station Name: \"板橋\",Train number: 0203,End Station Name: \"左營\", Departure time: 06:38, Destination time: 08:15\n",
      "Start Station Name: \"板橋\",Train number: 0603,End Station Name: \"左營\", Departure time: 07:00, Destination time: 08:50\n",
      "Start Station Name: \"板橋\",Train number: 0805,End Station Name: \"左營\", Departure time: 07:19, Destination time: 09:25\n",
      "Start Station Name: \"板橋\",Train number: 0109,End Station Name: \"左營\", Departure time: 07:39, Destination time: 09:05\n",
      "Start Station Name: \"板橋\",Train number: 0609,End Station Name: \"左營\", Departure time: 07:55, Destination time: 09:45\n",
      "Start Station Name: \"板橋\",Train number: 0205,End Station Name: \"左營\", Departure time: 07:59, Destination time: 09:30\n",
      "Start Station Name: \"板橋\",Train number: 0809,End Station Name: \"左營\", Departure time: 08:19, Destination time: 10:25\n",
      "Start Station Name: \"板橋\",Train number: 0613,End Station Name: \"左營\", Departure time: 08:29, Destination time: 10:20\n",
      "Start Station Name: \"板橋\",Train number: 0615,End Station Name: \"左營\", Departure time: 08:55, Destination time: 10:45\n",
      "Start Station Name: \"板橋\",Train number: 1209,End Station Name: \"左營\", Departure time: 08:59, Destination time: 10:30\n",
      "Start Station Name: \"板橋\",Train number: 0813,End Station Name: \"左營\", Departure time: 09:19, Destination time: 11:25\n",
      "Start Station Name: \"板橋\",Train number: 0619,End Station Name: \"左營\", Departure time: 09:29, Destination time: 11:20\n",
      "Start Station Name: \"板橋\",Train number: 0621,End Station Name: \"左營\", Departure time: 09:55, Destination time: 11:45\n",
      "Start Station Name: \"板橋\",Train number: 1213,End Station Name: \"左營\", Departure time: 09:59, Destination time: 11:30\n",
      "Start Station Name: \"板橋\",Train number: 0817,End Station Name: \"左營\", Departure time: 10:19, Destination time: 12:25\n",
      "Start Station Name: \"板橋\",Train number: 0625,End Station Name: \"左營\", Departure time: 10:29, Destination time: 12:20\n",
      "Start Station Name: \"板橋\",Train number: 0627,End Station Name: \"左營\", Departure time: 10:55, Destination time: 12:45\n",
      "Start Station Name: \"板橋\",Train number: 1217,End Station Name: \"左營\", Departure time: 10:59, Destination time: 12:30\n",
      "Start Station Name: \"板橋\",Train number: 0821,End Station Name: \"左營\", Departure time: 11:19, Destination time: 13:25\n",
      "Start Station Name: \"板橋\",Train number: 0633,End Station Name: \"左營\", Departure time: 11:55, Destination time: 13:45\n",
      "Start Station Name: \"板橋\",Train number: 1221,End Station Name: \"左營\", Departure time: 11:59, Destination time: 13:30\n",
      "Start Station Name: \"板橋\",Train number: 0825,End Station Name: \"左營\", Departure time: 12:19, Destination time: 14:25\n",
      "Start Station Name: \"板橋\",Train number: 0639,End Station Name: \"左營\", Departure time: 12:55, Destination time: 14:45\n",
      "Start Station Name: \"板橋\",Train number: 1225,End Station Name: \"左營\", Departure time: 12:59, Destination time: 14:30\n",
      "Start Station Name: \"板橋\",Train number: 0829,End Station Name: \"左營\", Departure time: 13:19, Destination time: 15:25\n",
      "Start Station Name: \"板橋\",Train number: 0645,End Station Name: \"左營\", Departure time: 13:55, Destination time: 15:45\n",
      "Start Station Name: \"板橋\",Train number: 1229,End Station Name: \"左營\", Departure time: 13:59, Destination time: 15:30\n",
      "Start Station Name: \"板橋\",Train number: 0833,End Station Name: \"左營\", Departure time: 14:19, Destination time: 16:25\n",
      "Start Station Name: \"板橋\",Train number: 0651,End Station Name: \"左營\", Departure time: 14:55, Destination time: 16:45\n",
      "Start Station Name: \"板橋\",Train number: 1233,End Station Name: \"左營\", Departure time: 14:59, Destination time: 16:30\n",
      "Start Station Name: \"板橋\",Train number: 0837,End Station Name: \"左營\", Departure time: 15:19, Destination time: 17:25\n",
      "Start Station Name: \"板橋\",Train number: 0657,End Station Name: \"左營\", Departure time: 15:55, Destination time: 17:45\n",
      "Start Station Name: \"板橋\",Train number: 1237,End Station Name: \"左營\", Departure time: 15:59, Destination time: 17:30\n",
      "Start Station Name: \"板橋\",Train number: 0841,End Station Name: \"左營\", Departure time: 16:19, Destination time: 18:25\n",
      "Start Station Name: \"板橋\",Train number: 0661,End Station Name: \"左營\", Departure time: 16:29, Destination time: 18:20\n",
      "Start Station Name: \"板橋\",Train number: 0663,End Station Name: \"左營\", Departure time: 16:55, Destination time: 18:45\n",
      "Start Station Name: \"板橋\",Train number: 1241,End Station Name: \"左營\", Departure time: 16:59, Destination time: 18:30\n",
      "Start Station Name: \"板橋\",Train number: 0845,End Station Name: \"左營\", Departure time: 17:19, Destination time: 19:25\n",
      "Start Station Name: \"板橋\",Train number: 0667,End Station Name: \"左營\", Departure time: 17:29, Destination time: 19:20\n",
      "Start Station Name: \"板橋\",Train number: 0669,End Station Name: \"左營\", Departure time: 17:55, Destination time: 19:45\n",
      "Start Station Name: \"板橋\",Train number: 1245,End Station Name: \"左營\", Departure time: 17:59, Destination time: 19:30\n",
      "Start Station Name: \"板橋\",Train number: 0849,End Station Name: \"左營\", Departure time: 18:19, Destination time: 20:25\n",
      "Start Station Name: \"板橋\",Train number: 0673,End Station Name: \"左營\", Departure time: 18:29, Destination time: 20:20\n",
      "Start Station Name: \"板橋\",Train number: 0153,End Station Name: \"左營\", Departure time: 18:39, Destination time: 20:05\n",
      "Start Station Name: \"板橋\",Train number: 0675,End Station Name: \"左營\", Departure time: 18:55, Destination time: 20:45\n",
      "Start Station Name: \"板橋\",Train number: 0249,End Station Name: \"左營\", Departure time: 18:59, Destination time: 20:30\n",
      "Start Station Name: \"板橋\",Train number: 0853,End Station Name: \"左營\", Departure time: 19:19, Destination time: 21:25\n",
      "Start Station Name: \"板橋\",Train number: 0681,End Station Name: \"左營\", Departure time: 19:55, Destination time: 21:45\n",
      "Start Station Name: \"板橋\",Train number: 1253,End Station Name: \"左營\", Departure time: 19:59, Destination time: 21:30\n",
      "Start Station Name: \"板橋\",Train number: 0857,End Station Name: \"左營\", Departure time: 20:19, Destination time: 22:25\n",
      "Start Station Name: \"板橋\",Train number: 0687,End Station Name: \"左營\", Departure time: 20:55, Destination time: 22:45\n",
      "Start Station Name: \"板橋\",Train number: 1257,End Station Name: \"左營\", Departure time: 20:59, Destination time: 22:30\n",
      "Start Station Name: \"板橋\",Train number: 0861,End Station Name: \"左營\", Departure time: 21:19, Destination time: 23:25\n",
      "Start Station Name: \"板橋\",Train number: 0693,End Station Name: \"左營\", Departure time: 21:50, Destination time: 23:40\n"
     ]
    }
   ],
   "source": [
    "# -*- coding: utf-8 -*-\n",
    "import requests\n",
    "from bs4 import BeautifulSoup\n",
    "import json\n",
    "\n",
    "payload = {\n",
    "\n",
    "## 1.填寫參數\n",
    "    \"SearchType\":\"S\",\n",
    "    \"Lang\":\"TW\",\n",
    "    \"StartStation\":\"BanQiao\",\n",
    "    \"EndStation\":\"ZuoYing\",\n",
    "    \"OutWardSearchDate\":\"2021/11/01\",\n",
    "    \"OutWardSearchTime\":\"05:30\",\n",
    "    \"ReturnSearchDate\":\"2021/11/01\",\n",
    "    \"ReturnSearchTime\":\"23:30\",\n",
    "    \"DiscountType\":\"\",\n",
    "}\n",
    "\n",
    "\n",
    "## 2.填寫好url\n",
    "url = 'https://www.thsrc.com.tw/TimeTable/Search'\n",
    "response = requests.post(url, data = payload)\n",
    "#print(response.text)\n",
    "\n",
    "## 3.使用json load將response.text做處理\n",
    "\n",
    "result = json.loads(response.text)\n",
    "\n",
    "for i in result['data']['DepartureTable']['TrainItem']:\n",
    "    print('Start Station Name: \"板橋\",Train number: {},End Station Name: \"左營\", Departure time: {}, Destination time: {}'.format( i['TrainNumber'], i['DepartureTime'], i['DestinationTime']))\n"
   ]
  },
  {
   "cell_type": "code",
   "execution_count": null,
   "metadata": {},
   "outputs": [],
   "source": []
  }
 ],
 "metadata": {
  "kernelspec": {
   "display_name": "Python 3 (ipykernel)",
   "language": "python",
   "name": "python3"
  },
  "language_info": {
   "codemirror_mode": {
    "name": "ipython",
    "version": 3
   },
   "file_extension": ".py",
   "mimetype": "text/x-python",
   "name": "python",
   "nbconvert_exporter": "python",
   "pygments_lexer": "ipython3",
   "version": "3.8.12"
  }
 },
 "nbformat": 4,
 "nbformat_minor": 4
}
